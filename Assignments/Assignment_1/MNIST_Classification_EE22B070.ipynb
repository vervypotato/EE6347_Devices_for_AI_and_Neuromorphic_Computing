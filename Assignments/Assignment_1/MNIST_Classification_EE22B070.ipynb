{
  "cells": [
    {
      "cell_type": "markdown",
      "metadata": {
        "id": "mA6fzwUoIGqv"
      },
      "source": [
        "#First we will import the MNIST dataset from Keras and assign the train and test datasets"
      ]
    },
    {
      "cell_type": "code",
      "execution_count": 87,
      "metadata": {
        "colab": {
          "base_uri": "https://localhost:8080/"
        },
        "id": "zN5AnJDziKEh",
        "outputId": "f695b5eb-8ee5-4db1-d440-96d26c8c2c2b",
        "vscode": {
          "languageId": "python"
        }
      },
      "outputs": [
        {
          "name": "stdout",
          "output_type": "stream",
          "text": [
            "(60000, 28, 28)\n",
            "(60000,)\n",
            "(10000, 28, 28)\n",
            "(10000,)\n"
          ]
        }
      ],
      "source": [
        "import tensorflow as tf\n",
        "(x_train,y_train), (x_test, y_test)= tf.keras.datasets.mnist.load_data()\n",
        "print(x_train.shape)\n",
        "print(y_train.shape)\n",
        "print(x_test.shape)\n",
        "print(y_test.shape)"
      ]
    },
    {
      "cell_type": "markdown",
      "metadata": {
        "id": "AHNeH6OrIgpH"
      },
      "source": [
        "#Next we will import the Sequential model, the Dense layer, the to_categorial utility and the SGD optimizer from Keras"
      ]
    },
    {
      "cell_type": "code",
      "execution_count": 88,
      "metadata": {
        "id": "tMv-JXFvzthr",
        "vscode": {
          "languageId": "python"
        }
      },
      "outputs": [],
      "source": [
        "from tensorflow.keras.models import Sequential\n",
        "from tensorflow.keras.layers import Dense, Flatten\n",
        "from tensorflow.keras.utils import to_categorical\n",
        "from tensorflow.keras.optimizers import SGD\n",
        "import matplotlib.pyplot as plt\n",
        "from tensorflow.keras.layers import Dropout\n",
        "from tensorflow.keras.layers import BatchNormalization"
      ]
    },
    {
      "cell_type": "markdown",
      "metadata": {
        "id": "f1e1caAxHd-h"
      },
      "source": [
        "## Next we will convert the 3-dimensional dataset into a 2-dimensional matrix by the reshape command"
      ]
    },
    {
      "cell_type": "code",
      "execution_count": 89,
      "metadata": {
        "colab": {
          "base_uri": "https://localhost:8080/"
        },
        "id": "e6_DF54apkC7",
        "outputId": "86c82eb1-3d85-4c99-c2ee-57a6f534adf2",
        "vscode": {
          "languageId": "python"
        }
      },
      "outputs": [
        {
          "name": "stdout",
          "output_type": "stream",
          "text": [
            "(60000, 784)\n",
            "(10000, 784)\n"
          ]
        }
      ],
      "source": [
        "x_train = x_train.reshape(60000, 784)\n",
        "x_test = x_test.reshape(10000, 784)\n",
        "\n",
        "print(x_train.shape)                  #confirming the dimensionality of the matrix\n",
        "print(x_test.shape)"
      ]
    },
    {
      "cell_type": "markdown",
      "metadata": {
        "id": "LyNUae0MWbAA"
      },
      "source": [
        "#Next we will convert the values from unsigned integers to floats and normalize with the maximum value (255)"
      ]
    },
    {
      "cell_type": "code",
      "execution_count": 90,
      "metadata": {
        "id": "eXCoHjEBqBk4",
        "vscode": {
          "languageId": "python"
        }
      },
      "outputs": [],
      "source": [
        "x_train = x_train.astype('float32')/255\n",
        "x_test = x_test.astype('float32')/255"
      ]
    },
    {
      "cell_type": "markdown",
      "metadata": {
        "id": "5DLuXllPw5Qz"
      },
      "source": []
    },
    {
      "cell_type": "markdown",
      "metadata": {
        "id": "Ane4jzAFXoRM"
      },
      "source": [
        "#The next step is to perform one-hot encoding on the categorial data"
      ]
    },
    {
      "cell_type": "code",
      "execution_count": 91,
      "metadata": {
        "colab": {
          "base_uri": "https://localhost:8080/"
        },
        "id": "HbSt568E6Txp",
        "outputId": "35c221e5-748e-4dab-ae99-3b5c4b009ce3",
        "vscode": {
          "languageId": "python"
        }
      },
      "outputs": [
        {
          "name": "stdout",
          "output_type": "stream",
          "text": [
            "[0. 0. 0. 0. 0. 1. 0. 0. 0. 0.]\n"
          ]
        }
      ],
      "source": [
        "y_train = to_categorical(y_train, 10)\n",
        "y_test = to_categorical(y_test, 10)\n",
        "\n",
        "print(y_train[0])"
      ]
    },
    {
      "cell_type": "markdown",
      "metadata": {
        "id": "FpflqDSkYJkJ"
      },
      "source": [
        "#Now we create the Sequential model and add the layers."
      ]
    },
    {
      "cell_type": "code",
      "execution_count": 92,
      "metadata": {
        "id": "ZFtPYxiTEoCw",
        "vscode": {
          "languageId": "python"
        }
      },
      "outputs": [],
      "source": [
        "# Create the model\n",
        "\n",
        "model = Sequential()\n",
        "\n",
        "# 1st layer\n",
        "model.add(Dense(100, activation='relu', input_shape=(784,)))\n",
        "model.add(BatchNormalization())               # BatchNormalization maintains the mean output around 0 and the output std. dev. close to 1\n",
        "model.add(Dropout(0.2))\n",
        "\n",
        "# 2nd layer\n",
        "model.add(Dense(50, activation='tanh'))       # Model now assigns the input_shape to be same as previous dense command\n",
        "model.add(BatchNormalization())\n",
        "model.add(Dropout(0.2))\n",
        "\n",
        "# Output layer\n",
        "model.add(Dense(10, activation='softmax'))\n",
        "\n"
      ]
    },
    {
      "cell_type": "markdown",
      "metadata": {
        "id": "Jviepo7-Yxm8"
      },
      "source": [
        "#We finally define the number of epochs, create a learning rate schedule and compile the model\n",
        "\n",
        "Model is trained on the training dataset provided\n",
        "\n",
        "The model is evaluated against the validation to calculate the loss at the end of each epoch"
      ]
    },
    {
      "cell_type": "code",
      "execution_count": 93,
      "metadata": {
        "colab": {
          "base_uri": "https://localhost:8080/"
        },
        "id": "Y0O4p4BnHTxy",
        "outputId": "0e95c443-f936-4b95-e9a8-91000cfcb619",
        "vscode": {
          "languageId": "python"
        }
      },
      "outputs": [
        {
          "name": "stdout",
          "output_type": "stream",
          "text": [
            "Epoch 1/20\n",
            "\u001b[1m469/469\u001b[0m \u001b[32m━━━━━━━━━━━━━━━━━━━━\u001b[0m\u001b[37m\u001b[0m \u001b[1m3s\u001b[0m 5ms/step - accuracy: 0.8115 - loss: 0.6157 - val_accuracy: 0.9458 - val_loss: 0.1806\n",
            "Epoch 2/20\n",
            "\u001b[1m469/469\u001b[0m \u001b[32m━━━━━━━━━━━━━━━━━━━━\u001b[0m\u001b[37m\u001b[0m \u001b[1m5s\u001b[0m 5ms/step - accuracy: 0.9304 - loss: 0.2320 - val_accuracy: 0.9548 - val_loss: 0.1455\n",
            "Epoch 3/20\n",
            "\u001b[1m469/469\u001b[0m \u001b[32m━━━━━━━━━━━━━━━━━━━━\u001b[0m\u001b[37m\u001b[0m \u001b[1m3s\u001b[0m 6ms/step - accuracy: 0.9453 - loss: 0.1832 - val_accuracy: 0.9611 - val_loss: 0.1224\n",
            "Epoch 4/20\n",
            "\u001b[1m469/469\u001b[0m \u001b[32m━━━━━━━━━━━━━━━━━━━━\u001b[0m\u001b[37m\u001b[0m \u001b[1m3s\u001b[0m 6ms/step - accuracy: 0.9522 - loss: 0.1563 - val_accuracy: 0.9685 - val_loss: 0.1054\n",
            "Epoch 5/20\n",
            "\u001b[1m469/469\u001b[0m \u001b[32m━━━━━━━━━━━━━━━━━━━━\u001b[0m\u001b[37m\u001b[0m \u001b[1m2s\u001b[0m 5ms/step - accuracy: 0.9578 - loss: 0.1384 - val_accuracy: 0.9696 - val_loss: 0.1015\n",
            "Epoch 6/20\n",
            "\u001b[1m469/469\u001b[0m \u001b[32m━━━━━━━━━━━━━━━━━━━━\u001b[0m\u001b[37m\u001b[0m \u001b[1m3s\u001b[0m 5ms/step - accuracy: 0.9623 - loss: 0.1231 - val_accuracy: 0.9727 - val_loss: 0.0911\n",
            "Epoch 7/20\n",
            "\u001b[1m469/469\u001b[0m \u001b[32m━━━━━━━━━━━━━━━━━━━━\u001b[0m\u001b[37m\u001b[0m \u001b[1m2s\u001b[0m 5ms/step - accuracy: 0.9641 - loss: 0.1179 - val_accuracy: 0.9719 - val_loss: 0.0904\n",
            "Epoch 8/20\n",
            "\u001b[1m469/469\u001b[0m \u001b[32m━━━━━━━━━━━━━━━━━━━━\u001b[0m\u001b[37m\u001b[0m \u001b[1m3s\u001b[0m 7ms/step - accuracy: 0.9675 - loss: 0.1074 - val_accuracy: 0.9732 - val_loss: 0.0860\n",
            "Epoch 9/20\n",
            "\u001b[1m469/469\u001b[0m \u001b[32m━━━━━━━━━━━━━━━━━━━━\u001b[0m\u001b[37m\u001b[0m \u001b[1m3s\u001b[0m 5ms/step - accuracy: 0.9686 - loss: 0.1001 - val_accuracy: 0.9750 - val_loss: 0.0843\n",
            "Epoch 10/20\n",
            "\u001b[1m469/469\u001b[0m \u001b[32m━━━━━━━━━━━━━━━━━━━━\u001b[0m\u001b[37m\u001b[0m \u001b[1m2s\u001b[0m 5ms/step - accuracy: 0.9711 - loss: 0.0924 - val_accuracy: 0.9754 - val_loss: 0.0838\n",
            "Epoch 11/20\n",
            "\u001b[1m469/469\u001b[0m \u001b[32m━━━━━━━━━━━━━━━━━━━━\u001b[0m\u001b[37m\u001b[0m \u001b[1m2s\u001b[0m 5ms/step - accuracy: 0.9734 - loss: 0.0855 - val_accuracy: 0.9752 - val_loss: 0.0791\n",
            "Epoch 12/20\n",
            "\u001b[1m469/469\u001b[0m \u001b[32m━━━━━━━━━━━━━━━━━━━━\u001b[0m\u001b[37m\u001b[0m \u001b[1m2s\u001b[0m 5ms/step - accuracy: 0.9735 - loss: 0.0836 - val_accuracy: 0.9754 - val_loss: 0.0794\n",
            "Epoch 13/20\n",
            "\u001b[1m469/469\u001b[0m \u001b[32m━━━━━━━━━━━━━━━━━━━━\u001b[0m\u001b[37m\u001b[0m \u001b[1m3s\u001b[0m 6ms/step - accuracy: 0.9758 - loss: 0.0774 - val_accuracy: 0.9753 - val_loss: 0.0817\n",
            "Epoch 14/20\n",
            "\u001b[1m469/469\u001b[0m \u001b[32m━━━━━━━━━━━━━━━━━━━━\u001b[0m\u001b[37m\u001b[0m \u001b[1m5s\u001b[0m 5ms/step - accuracy: 0.9750 - loss: 0.0784 - val_accuracy: 0.9781 - val_loss: 0.0763\n",
            "Epoch 15/20\n",
            "\u001b[1m469/469\u001b[0m \u001b[32m━━━━━━━━━━━━━━━━━━━━\u001b[0m\u001b[37m\u001b[0m \u001b[1m2s\u001b[0m 5ms/step - accuracy: 0.9758 - loss: 0.0765 - val_accuracy: 0.9772 - val_loss: 0.0790\n",
            "Epoch 16/20\n",
            "\u001b[1m469/469\u001b[0m \u001b[32m━━━━━━━━━━━━━━━━━━━━\u001b[0m\u001b[37m\u001b[0m \u001b[1m2s\u001b[0m 5ms/step - accuracy: 0.9765 - loss: 0.0737 - val_accuracy: 0.9774 - val_loss: 0.0771\n",
            "Epoch 17/20\n",
            "\u001b[1m469/469\u001b[0m \u001b[32m━━━━━━━━━━━━━━━━━━━━\u001b[0m\u001b[37m\u001b[0m \u001b[1m3s\u001b[0m 7ms/step - accuracy: 0.9767 - loss: 0.0712 - val_accuracy: 0.9787 - val_loss: 0.0792\n",
            "Epoch 18/20\n",
            "\u001b[1m469/469\u001b[0m \u001b[32m━━━━━━━━━━━━━━━━━━━━\u001b[0m\u001b[37m\u001b[0m \u001b[1m2s\u001b[0m 5ms/step - accuracy: 0.9783 - loss: 0.0684 - val_accuracy: 0.9770 - val_loss: 0.0768\n",
            "Epoch 19/20\n",
            "\u001b[1m469/469\u001b[0m \u001b[32m━━━━━━━━━━━━━━━━━━━━\u001b[0m\u001b[37m\u001b[0m \u001b[1m2s\u001b[0m 5ms/step - accuracy: 0.9780 - loss: 0.0657 - val_accuracy: 0.9775 - val_loss: 0.0805\n",
            "Epoch 20/20\n",
            "\u001b[1m469/469\u001b[0m \u001b[32m━━━━━━━━━━━━━━━━━━━━\u001b[0m\u001b[37m\u001b[0m \u001b[1m3s\u001b[0m 5ms/step - accuracy: 0.9792 - loss: 0.0636 - val_accuracy: 0.9776 - val_loss: 0.0780\n"
          ]
        }
      ],
      "source": [
        "\n",
        "sgd = SGD(learning_rate=0.07, nesterov=False)\n",
        "model.compile(optimizer= sgd,loss='categorical_crossentropy', metrics=['accuracy'])                                 # model compilation\n",
        "history3 = model.fit(x_train, y_train, batch_size=128, epochs=20, verbose=1, validation_data=(x_test,y_test))       # training the model\n"
      ]
    },
    {
      "cell_type": "markdown",
      "metadata": {
        "id": "jhDI_v1VAggc"
      },
      "source": [
        "# Printing history of the fit showing training and validation accuracy as a function of epochs\n"
      ]
    },
    {
      "cell_type": "code",
      "execution_count": 94,
      "metadata": {
        "colab": {
          "base_uri": "https://localhost:8080/"
        },
        "id": "v6IlHp5Mbe1-",
        "outputId": "f959086e-b458-4d48-d732-6eb833a5bafc",
        "vscode": {
          "languageId": "python"
        }
      },
      "outputs": [
        {
          "name": "stdout",
          "output_type": "stream",
          "text": [
            "Epoch 1: Train Accuracy = 0.8788, Validation Accuracy = 0.9458\n",
            "Epoch 2: Train Accuracy = 0.9353, Validation Accuracy = 0.9548\n",
            "Epoch 3: Train Accuracy = 0.9460, Validation Accuracy = 0.9611\n",
            "Epoch 4: Train Accuracy = 0.9540, Validation Accuracy = 0.9685\n",
            "Epoch 5: Train Accuracy = 0.9589, Validation Accuracy = 0.9696\n",
            "Epoch 6: Train Accuracy = 0.9627, Validation Accuracy = 0.9727\n",
            "Epoch 7: Train Accuracy = 0.9650, Validation Accuracy = 0.9719\n",
            "Epoch 8: Train Accuracy = 0.9669, Validation Accuracy = 0.9732\n",
            "Epoch 9: Train Accuracy = 0.9692, Validation Accuracy = 0.9750\n",
            "Epoch 10: Train Accuracy = 0.9704, Validation Accuracy = 0.9754\n",
            "Epoch 11: Train Accuracy = 0.9725, Validation Accuracy = 0.9752\n",
            "Epoch 12: Train Accuracy = 0.9733, Validation Accuracy = 0.9754\n",
            "Epoch 13: Train Accuracy = 0.9749, Validation Accuracy = 0.9753\n",
            "Epoch 14: Train Accuracy = 0.9745, Validation Accuracy = 0.9781\n",
            "Epoch 15: Train Accuracy = 0.9746, Validation Accuracy = 0.9772\n",
            "Epoch 16: Train Accuracy = 0.9755, Validation Accuracy = 0.9774\n",
            "Epoch 17: Train Accuracy = 0.9766, Validation Accuracy = 0.9787\n",
            "Epoch 18: Train Accuracy = 0.9780, Validation Accuracy = 0.9770\n",
            "Epoch 19: Train Accuracy = 0.9773, Validation Accuracy = 0.9775\n",
            "Epoch 20: Train Accuracy = 0.9787, Validation Accuracy = 0.9776\n"
          ]
        }
      ],
      "source": [
        "Train_Acc_list = []\n",
        "Val_Acc_list = []\n",
        "epoch_list = []\n",
        "\n",
        "for epoch in range(len(history3.history['accuracy'])):\n",
        "    epoch_list.append(epoch + 1)\n",
        "    Train_Acc_list.append(history3.history['accuracy'][epoch])\n",
        "    Val_Acc_list.append(history3.history['val_accuracy'][epoch])\n",
        "    print(f\"Epoch {epoch+1}: \"\n",
        "          f\"Train Accuracy = {history3.history['accuracy'][epoch]:.4f}, \"\n",
        "          f\"Validation Accuracy = {history3.history['val_accuracy'][epoch]:.4f}\")\n",
        "\n",
        "#print(Train_Acc_list)\n",
        "#print(Val_Acc_list)"
      ]
    },
    {
      "cell_type": "markdown",
      "metadata": {
        "id": "hpyv8TYMAMG5"
      },
      "source": [
        "# Plotting Training and Validation Accuracies against no. of Epochs"
      ]
    },
    {
      "cell_type": "code",
      "execution_count": 95,
      "metadata": {
        "colab": {
          "base_uri": "https://localhost:8080/",
          "height": 472
        },
        "id": "tTqpL9R5jwkb",
        "outputId": "716a30a5-a825-49ba-e594-3dfed5c2e887",
        "vscode": {
          "languageId": "python"
        }
      },
      "outputs": [
        {
          "data": {
            "image/png": "[encoded data removed]",
            "text/plain": [
              "<Figure size 640x480 with 1 Axes>"
            ]
          },
          "metadata": {},
          "output_type": "display_data"
        }
      ],
      "source": [
        "#Plotting Accuracy vs Epochs\n",
        "\n",
        "fig, ax = plt.subplots()\n",
        "\n",
        "ax.plot(epoch_list, Train_Acc_list, marker = 'o', color = \"red\", label = 'Training Accuracy')\n",
        "ax.plot(epoch_list, Val_Acc_list, marker = 'o', color = \"blue\", label = 'Test Accuracy')\n",
        "\n",
        "ax.set_xlabel(\"Epochs\")\n",
        "ax.set_ylabel(\"Accuracy\")\n",
        "ax.set_title(\"Accuracy vs Epochs\")\n",
        "\n",
        "plt.legend(loc = 'lower right')\n",
        "\n",
        "plt.show()"
      ]
    },
    {
      "attachments": {},
      "cell_type": "markdown",
      "metadata": {},
      "source": [
        "# Plot in percentage accuracy"
      ]
    },
    {
      "cell_type": "code",
      "execution_count": 98,
      "metadata": {
        "colab": {
          "base_uri": "https://localhost:8080/",
          "height": 472
        },
        "id": "wXrDQAJdBPCv",
        "outputId": "b2d56e87-9f9d-4bbb-a4a6-0e348ed4a650",
        "vscode": {
          "languageId": "python"
        }
      },
      "outputs": [
        {
          "data": {
            "image/png": "[encoded data removed]",
            "text/plain": [
              "<Figure size 640x480 with 1 Axes>"
            ]
          },
          "metadata": {},
          "output_type": "display_data"
        }
      ],
      "source": [
        "import numpy as np\n",
        "\n",
        "#Plotting Accuracy (percentage) vs Epochs\n",
        "\n",
        "fig, ax = plt.subplots()\n",
        "\n",
        "ax.plot(epoch_list, np.array(Train_Acc_list)*100, marker = 'o', color = \"red\", label = 'Training Accuracy')\n",
        "ax.plot(epoch_list, np.array(Val_Acc_list)*100, marker = 'o', color = \"blue\", label = 'Test Accuracy')\n",
        "\n",
        "ax.set_xlabel(\"Epochs\")\n",
        "ax.set_ylabel(\"Accuracy (%)\")\n",
        "ax.set_title(\"Accuracy vs Epochs\")\n",
        "\n",
        "plt.legend(loc = 'lower right')\n",
        "\n",
        "plt.show()"
      ]
    }
  ],
  "metadata": {
    "colab": {
      "provenance": []
    },
    "kernelspec": {
      "display_name": "Python 3",
      "name": "python3"
    }
  },
  "nbformat": 4,
  "nbformat_minor": 0
}
